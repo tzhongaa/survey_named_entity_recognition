{
 "cells": [
  {
   "cell_type": "code",
   "execution_count": 1,
   "metadata": {
    "collapsed": false
   },
   "outputs": [],
   "source": [
    "# -*- coding: utf-8 -*-\n",
    "from pyltp import Segmentor\n",
    "segmentor = Segmentor()  # 初始化实例\n",
    "segmentor.load('ltp_models/cws.model')  # 加载模型\n",
    "words = segmentor.segment('我想预订一杯咖啡，请把它送到腾讯大厦A栋101室')  # 分词\n",
    "#print '\\t'.join(words)\n",
    "#segmentor.release()  # 释放模型"
   ]
  },
  {
   "cell_type": "code",
   "execution_count": 2,
   "metadata": {
    "collapsed": false
   },
   "outputs": [],
   "source": [
    "# -*- coding: utf-8 -*-\n",
    "from pyltp import Postagger\n",
    "postagger = Postagger() # 初始化实例\n",
    "postagger.load('ltp_models/pos.model')  # 加载模型\n",
    "postags = postagger.postag(words)  # 词性标注\n",
    "#print '\\t'.join(postags)\n",
    "#postagger.release()  # 释放模型"
   ]
  },
  {
   "cell_type": "code",
   "execution_count": 3,
   "metadata": {
    "collapsed": false
   },
   "outputs": [],
   "source": [
    "# -*- coding: utf-8 -*-\n",
    "from pyltp import Parser\n",
    "parser = Parser() # 初始化实例\n",
    "parser.load('ltp_models/parser.model')  # 加载模型\n",
    "arcs = parser.parse(words, postags)  # 句法分析\n",
    "#print \"\\t\".join(\"%d:%s\" % (arc.head, arc.relation) for arc in arcs)\n",
    "#parser.release()  # 释放模型\n",
    "#print arcs"
   ]
  },
  {
   "cell_type": "code",
   "execution_count": 4,
   "metadata": {
    "collapsed": false
   },
   "outputs": [],
   "source": [
    "#[x.relation for x in arcs]"
   ]
  },
  {
   "cell_type": "code",
   "execution_count": 5,
   "metadata": {
    "collapsed": false
   },
   "outputs": [],
   "source": [
    "temp = []\n",
    "solution = []\n",
    "for i in range(len(arcs)):\n",
    "    if arcs[i].relation == 'ATT':\n",
    "        temp.append(i)\n",
    "    elif temp != []:\n",
    "        solution.append(temp)\n",
    "        temp = []\n",
    "    else:\n",
    "        temp = []\n",
    "\n",
    "        "
   ]
  },
  {
   "cell_type": "code",
   "execution_count": 6,
   "metadata": {
    "collapsed": true
   },
   "outputs": [],
   "source": [
    "address = ['大厦']"
   ]
  },
  {
   "cell_type": "code",
   "execution_count": 7,
   "metadata": {
    "collapsed": false
   },
   "outputs": [],
   "source": [
    "final_solution = []\n",
    "for temp in solution:\n",
    "    #print temp\n",
    "    for idx in temp:\n",
    "        if postags[idx] == 'ns' or words[idx] in address:\n",
    "            #print 'yes'\n",
    "            final_solution.append(temp)\n",
    "            break\n"
   ]
  },
  {
   "cell_type": "code",
   "execution_count": 8,
   "metadata": {
    "collapsed": false
   },
   "outputs": [
    {
     "name": "stdout",
     "output_type": "stream",
     "text": [
      "腾讯大厦A栋\n"
     ]
    }
   ],
   "source": [
    "for temp in final_solution:\n",
    "    print ''.join(words[i] for i in temp)"
   ]
  },
  {
   "cell_type": "code",
   "execution_count": null,
   "metadata": {
    "collapsed": true
   },
   "outputs": [],
   "source": []
  }
 ],
 "metadata": {
  "kernelspec": {
   "display_name": "Python 2",
   "language": "python",
   "name": "python2"
  },
  "language_info": {
   "codemirror_mode": {
    "name": "ipython",
    "version": 2
   },
   "file_extension": ".py",
   "mimetype": "text/x-python",
   "name": "python",
   "nbconvert_exporter": "python",
   "pygments_lexer": "ipython2",
   "version": "2.7.12"
  }
 },
 "nbformat": 4,
 "nbformat_minor": 0
}

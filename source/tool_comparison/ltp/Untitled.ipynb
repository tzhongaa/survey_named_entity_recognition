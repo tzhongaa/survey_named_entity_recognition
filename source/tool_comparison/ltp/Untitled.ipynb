{
 "cells": [
  {
   "cell_type": "code",
   "execution_count": 41,
   "metadata": {
    "collapsed": false
   },
   "outputs": [],
   "source": [
    "from time import time\n",
    "import subprocess\n",
    "start = time()\n",
    "x = subprocess.Popen('./ltp-3.3.2/bin/examples/cws_cmdline --input input',\n",
    "                     stdout=subprocess.PIPE,\n",
    "                            shell=True)\n",
    "\n",
    "m = x.communicate()\n",
    "end = time()"
   ]
  },
  {
   "cell_type": "code",
   "execution_count": 42,
   "metadata": {
    "collapsed": false
   },
   "outputs": [
    {
     "name": "stdout",
     "output_type": "stream",
     "text": [
      "0.0596790313721\n",
      "这\t是\t测试\t文本\n",
      "\n"
     ]
    }
   ],
   "source": [
    "print(end-start)\n",
    "print(m[0])"
   ]
  },
  {
   "cell_type": "code",
   "execution_count": null,
   "metadata": {
    "collapsed": true
   },
   "outputs": [],
   "source": []
  }
 ],
 "metadata": {
  "kernelspec": {
   "display_name": "Python 2",
   "language": "python",
   "name": "python2"
  },
  "language_info": {
   "codemirror_mode": {
    "name": "ipython",
    "version": 2
   },
   "file_extension": ".py",
   "mimetype": "text/x-python",
   "name": "python",
   "nbconvert_exporter": "python",
   "pygments_lexer": "ipython2",
   "version": "2.7.12"
  }
 },
 "nbformat": 4,
 "nbformat_minor": 0
}

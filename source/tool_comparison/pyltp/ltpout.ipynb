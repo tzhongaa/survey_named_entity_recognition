{
 "cells": [
  {
   "cell_type": "code",
   "execution_count": 87,
   "metadata": {
    "collapsed": false
   },
   "outputs": [
    {
     "name": "stdout",
     "output_type": "stream",
     "text": [
      "个\t大\t杯\t的\t半\t糖\t的\t红茶\t拿铁\t麻烦\t送\t到\t这个\t世纪\t大道\t八十八\t号\t金茂\t大厦\t三十六\t楼\t的\t三\t六\t零\t五十\n"
     ]
    }
   ],
   "source": [
    "# -*- coding: utf-8 -*-\n",
    "from pyltp import Segmentor\n",
    "segmentor = Segmentor()  # 初始化实例\n",
    "segmentor.load('ltp_models/cws.model')  # 加载模型\n",
    "words = segmentor.segment('个大杯的半糖的红茶拿铁麻烦送到这个世纪大道八十八号金茂大厦三十六楼的三六零五十')  # 分词\n",
    "print '\\t'.join(words)\n",
    "#segmentor.release()  # 释放模型"
   ]
  },
  {
   "cell_type": "code",
   "execution_count": 88,
   "metadata": {
    "collapsed": false
   },
   "outputs": [
    {
     "name": "stdout",
     "output_type": "stream",
     "text": [
      "n\ta\tn\tu\tm\tn\tu\tn\tn\ta\tv\tv\tr\tn\tn\tm\tq\tnz\tn\tm\tn\tu\tm\tm\tm\tm\n"
     ]
    }
   ],
   "source": [
    "# -*- coding: utf-8 -*-\n",
    "from pyltp import Postagger\n",
    "postagger = Postagger() # 初始化实例\n",
    "postagger.load('ltp_models/pos.model')  # 加载模型\n",
    "postags = postagger.postag(words)  # 词性标注\n",
    "print '\\t'.join(postags)\n",
    "#postagger.release()  # 释放模型"
   ]
  },
  {
   "cell_type": "code",
   "execution_count": 89,
   "metadata": {
    "collapsed": false
   },
   "outputs": [
    {
     "name": "stdout",
     "output_type": "stream",
     "text": [
      "3:ATT\t3:ATT\t8:ATT\t3:RAD\t6:ATT\t8:ATT\t6:RAD\t9:ATT\t11:SBV\t11:ADV\t26:ATT\t11:CMP\t14:ATT\t15:ATT\t19:ATT\t17:ATT\t19:ATT\t19:ATT\t21:ATT\t21:ATT\t12:POB\t11:RAD\t24:ATT\t25:ATT\t26:ATT\t0:HED\n"
     ]
    }
   ],
   "source": [
    "# -*- coding: utf-8 -*-\n",
    "from pyltp import Parser\n",
    "parser = Parser() # 初始化实例\n",
    "parser.load('ltp_models/parser.model')  # 加载模型\n",
    "arcs = parser.parse(words, postags)  # 句法分析\n",
    "print \"\\t\".join(\"%d:%s\" % (arc.head, arc.relation) for arc in arcs)\n",
    "#parser.release()  # 释放模型\n",
    "#print arcs"
   ]
  },
  {
   "cell_type": "code",
   "execution_count": 90,
   "metadata": {
    "collapsed": false
   },
   "outputs": [],
   "source": [
    "#[x.relation for x in arcs]"
   ]
  },
  {
   "cell_type": "code",
   "execution_count": 91,
   "metadata": {
    "collapsed": false
   },
   "outputs": [],
   "source": [
    "temp = []\n",
    "solution = []\n",
    "for i in range(len(arcs)):\n",
    "    if arcs[i].relation == 'ATT':\n",
    "        temp.append(i)\n",
    "    elif temp != []:\n",
    "        if arcs[i].relation != 'RAD':\n",
    "            temp.append(i)\n",
    "        #if arcs[i].head > i:\n",
    "           # del temp[0]\n",
    "        solution.append(temp)\n",
    "        temp = []\n",
    "    else:\n",
    "        temp = []\n",
    "\n",
    "        "
   ]
  },
  {
   "cell_type": "code",
   "execution_count": 92,
   "metadata": {
    "collapsed": false
   },
   "outputs": [],
   "source": [
    "address = ['大厦', '层', '栋', '科技园' ]"
   ]
  },
  {
   "cell_type": "code",
   "execution_count": 93,
   "metadata": {
    "collapsed": false
   },
   "outputs": [],
   "source": [
    "final_solution = []\n",
    "for temp in solution:\n",
    "    #print temp\n",
    "    for idx in temp:\n",
    "        if postags[idx] == 'ns' or words[idx] in address:\n",
    "            #print 'yes'\n",
    "            final_solution.append(temp)\n",
    "            break\n"
   ]
  },
  {
   "cell_type": "code",
   "execution_count": 94,
   "metadata": {
    "collapsed": false
   },
   "outputs": [
    {
     "name": "stdout",
     "output_type": "stream",
     "text": [
      "这个世纪大道八十八号金茂大厦三十六楼\n"
     ]
    }
   ],
   "source": [
    "for temp in final_solution:\n",
    "    print ''.join(words[i] for i in temp)"
   ]
  },
  {
   "cell_type": "code",
   "execution_count": null,
   "metadata": {
    "collapsed": true
   },
   "outputs": [],
   "source": []
  },
  {
   "cell_type": "code",
   "execution_count": null,
   "metadata": {
    "collapsed": true
   },
   "outputs": [],
   "source": []
  }
 ],
 "metadata": {
  "kernelspec": {
   "display_name": "Python 2",
   "language": "python",
   "name": "python2"
  },
  "language_info": {
   "codemirror_mode": {
    "name": "ipython",
    "version": 2
   },
   "file_extension": ".py",
   "mimetype": "text/x-python",
   "name": "python",
   "nbconvert_exporter": "python",
   "pygments_lexer": "ipython2",
   "version": "2.7.12"
  }
 },
 "nbformat": 4,
 "nbformat_minor": 0
}

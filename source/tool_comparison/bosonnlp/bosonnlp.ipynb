{
 "cells": [
  {
   "cell_type": "code",
   "execution_count": 1,
   "metadata": {
    "collapsed": false
   },
   "outputs": [
    {
     "name": "stdout",
     "output_type": "stream",
     "text": [
      "腾讯大厦A栋101室 location\n",
      "0.217009067535\n"
     ]
    }
   ],
   "source": [
    "from time import time\n",
    "start = time()\n",
    "from __future__ import print_function, unicode_literals\n",
    "from bosonnlp import BosonNLP\n",
    "import os\n",
    "nlp = BosonNLP('ZoNGiZCV.9409.1Cz-WJBQHKEi')\n",
    "s=['我想预订一杯咖啡，请把它送到腾讯大厦A栋101室']\n",
    "result = nlp.ner(s)[0]\n",
    "words = result['word']\n",
    "entities = result['entity']\n",
    "for entity in entities:\n",
    "    print(''.join(words[entity[0]:entity[1]]), entity[2])\n",
    "end = time()\n",
    "print(end-start)"
   ]
  },
  {
   "cell_type": "code",
   "execution_count": null,
   "metadata": {
    "collapsed": true
   },
   "outputs": [],
   "source": []
  },
  {
   "cell_type": "code",
   "execution_count": null,
   "metadata": {
    "collapsed": true
   },
   "outputs": [],
   "source": []
  }
 ],
 "metadata": {
  "kernelspec": {
   "display_name": "Python 2",
   "language": "python",
   "name": "python2"
  },
  "language_info": {
   "codemirror_mode": {
    "name": "ipython",
    "version": 2
   },
   "file_extension": ".py",
   "mimetype": "text/x-python",
   "name": "python",
   "nbconvert_exporter": "python",
   "pygments_lexer": "ipython2",
   "version": "2.7.12"
  }
 },
 "nbformat": 4,
 "nbformat_minor": 0
}
